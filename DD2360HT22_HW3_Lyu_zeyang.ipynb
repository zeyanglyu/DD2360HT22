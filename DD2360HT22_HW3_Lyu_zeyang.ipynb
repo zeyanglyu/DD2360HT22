{
  "nbformat": 4,
  "nbformat_minor": 0,
  "metadata": {
    "colab": {
      "provenance": []
    },
    "kernelspec": {
      "name": "python3",
      "display_name": "Python 3"
    },
    "language_info": {
      "name": "python"
    },
    "gpuClass": "standard"
  },
  "cells": [
    {
      "cell_type": "markdown",
      "source": [
        "https://github.com/zeyanglyu/DD2360HT22"
      ],
      "metadata": {
        "id": "mkQiwFwKZBv4"
      }
    },
    {
      "cell_type": "code",
      "execution_count": null,
      "metadata": {
        "id": "CHxPvRIY0i5s",
        "colab": {
          "base_uri": "https://localhost:8080/"
        },
        "outputId": "f5c1d684-d68a-41e2-e131-60914f8dc6fa"
      },
      "outputs": [
        {
          "output_type": "stream",
          "name": "stdout",
          "text": [
            "Fri Dec 16 14:40:57 2022       \n",
            "+-----------------------------------------------------------------------------+\n",
            "| NVIDIA-SMI 460.32.03    Driver Version: 460.32.03    CUDA Version: 11.2     |\n",
            "|-------------------------------+----------------------+----------------------+\n",
            "| GPU  Name        Persistence-M| Bus-Id        Disp.A | Volatile Uncorr. ECC |\n",
            "| Fan  Temp  Perf  Pwr:Usage/Cap|         Memory-Usage | GPU-Util  Compute M. |\n",
            "|                               |                      |               MIG M. |\n",
            "|===============================+======================+======================|\n",
            "|   0  Tesla T4            Off  | 00000000:00:04.0 Off |                    0 |\n",
            "| N/A   68C    P0    30W /  70W |      0MiB / 15109MiB |      0%      Default |\n",
            "|                               |                      |                  N/A |\n",
            "+-------------------------------+----------------------+----------------------+\n",
            "                                                                               \n",
            "+-----------------------------------------------------------------------------+\n",
            "| Processes:                                                                  |\n",
            "|  GPU   GI   CI        PID   Type   Process name                  GPU Memory |\n",
            "|        ID   ID                                                   Usage      |\n",
            "|=============================================================================|\n",
            "|  No running processes found                                                 |\n",
            "+-----------------------------------------------------------------------------+\n",
            "nvcc: NVIDIA (R) Cuda compiler driver\n",
            "Copyright (c) 2005-2021 NVIDIA Corporation\n",
            "Built on Sun_Feb_14_21:12:58_PST_2021\n",
            "Cuda compilation tools, release 11.2, V11.2.152\n",
            "Build cuda_11.2.r11.2/compiler.29618528_0\n"
          ]
        }
      ],
      "source": [
        "!nvidia-smi\n",
        "!nvcc --version "
      ]
    },
    {
      "cell_type": "code",
      "source": [
        "from google.colab import drive\n",
        "drive.mount('/content/drive')"
      ],
      "metadata": {
        "colab": {
          "base_uri": "https://localhost:8080/"
        },
        "id": "4iTszRQ34SSU",
        "outputId": "7feebf18-2910-4bec-fcb2-652857d21e7b"
      },
      "execution_count": null,
      "outputs": [
        {
          "output_type": "stream",
          "name": "stdout",
          "text": [
            "Drive already mounted at /content/drive; to attempt to forcibly remount, call drive.mount(\"/content/drive\", force_remount=True).\n"
          ]
        }
      ]
    },
    {
      "cell_type": "markdown",
      "source": [
        "# EX1\n",
        "\n",
        "### Compile"
      ],
      "metadata": {
        "id": "MitbsWfngTXv"
      }
    },
    {
      "cell_type": "code",
      "source": [
        "! nvcc -arch=sm_75 /content/drive/MyDrive/lab3_ex1.cu -o lab3_ex1"
      ],
      "metadata": {
        "id": "Iu4KWdEUITHa"
      },
      "execution_count": null,
      "outputs": []
    },
    {
      "cell_type": "markdown",
      "source": [
        "###Run"
      ],
      "metadata": {
        "id": "OYf1BlbUgn5x"
      }
    },
    {
      "cell_type": "code",
      "source": [
        "!./lab3_ex1 1024"
      ],
      "metadata": {
        "colab": {
          "base_uri": "https://localhost:8080/"
        },
        "id": "NFOWwhx-jjhp",
        "outputId": "ed472d5b-500e-4264-c009-1d764c14cd4f"
      },
      "execution_count": null,
      "outputs": [
        {
          "output_type": "stream",
          "name": "stdout",
          "text": [
            "The input length is 1024\n",
            "sum verified: Correct!\n",
            "Time Host->Device: 0.000031 - Time Device->Host: 0.000033\n",
            "CPU time: 0.000004 - GPU time: 0.000028\n"
          ]
        }
      ]
    },
    {
      "cell_type": "code",
      "source": [
        "!./lab3_ex1 131070"
      ],
      "metadata": {
        "colab": {
          "base_uri": "https://localhost:8080/"
        },
        "id": "TJ9ZNSwVjxpf",
        "outputId": "0536fb23-94f5-41e5-8af7-a727ff1909a5"
      },
      "execution_count": null,
      "outputs": [
        {
          "output_type": "stream",
          "name": "stdout",
          "text": [
            "The input length is 131070\n",
            "sum verified: Correct!\n",
            "Time Host->Device: 0.000657 - Time Device->Host: 0.000757\n",
            "CPU time: 0.001073 - GPU time: 0.000028\n"
          ]
        }
      ]
    },
    {
      "cell_type": "code",
      "source": [
        "!/usr/local/cuda-11/bin/nv-nsight-cu-cli ./lab3_ex1 1024"
      ],
      "metadata": {
        "colab": {
          "base_uri": "https://localhost:8080/"
        },
        "id": "8EdIHqFqkL6g",
        "outputId": "55739a4c-e362-451d-973a-76741323e390"
      },
      "execution_count": null,
      "outputs": [
        {
          "output_type": "stream",
          "name": "stdout",
          "text": [
            "The input length is 1024\n",
            "==PROF== Connected to process 349 (/content/lab3_ex1)\n",
            "==PROF== Profiling \"vecAdd\" - 1: 0%....50%....100% - 8 passes\n",
            "sum verified: Correct!\n",
            "Time Host->Device: 0.000106 - Time Device->Host: 0.000048\n",
            "CPU time: 0.000005 - GPU time: 0.830987\n",
            "==PROF== Disconnected from process 349\n",
            "[349] lab3_ex1@127.0.0.1\n",
            "  vecAdd(double*, double*, double*, int), 2022-Dec-15 19:00:40, Context 1, Stream 7\n",
            "    Section: GPU Speed Of Light\n",
            "    ---------------------------------------------------------------------- --------------- ------------------------------\n",
            "    DRAM Frequency                                                           cycle/nsecond                           4.81\n",
            "    SM Frequency                                                             cycle/usecond                         565.35\n",
            "    Elapsed Cycles                                                                   cycle                          2,226\n",
            "    Memory [%]                                                                           %                           1.58\n",
            "    SOL DRAM                                                                             %                           1.58\n",
            "    Duration                                                                       usecond                           3.94\n",
            "    SOL L1/TEX Cache                                                                     %                           6.13\n",
            "    SOL L2 Cache                                                                         %                           1.14\n",
            "    SM Active Cycles                                                                 cycle                         208.65\n",
            "    SM [%]                                                                               %                           0.58\n",
            "    ---------------------------------------------------------------------- --------------- ------------------------------\n",
            "    WRN   This kernel grid is too small to fill the available resources on this device, resulting in only 0.0 full      \n",
            "          waves across all SMs. Look at Launch Statistics for more details.                                             \n",
            "\n",
            "    Section: Launch Statistics\n",
            "    ---------------------------------------------------------------------- --------------- ------------------------------\n",
            "    Block Size                                                                                                        128\n",
            "    Function Cache Configuration                                                                  cudaFuncCachePreferNone\n",
            "    Grid Size                                                                                                           8\n",
            "    Registers Per Thread                                                   register/thread                             16\n",
            "    Shared Memory Configuration Size                                                 Kbyte                          32.77\n",
            "    Driver Shared Memory Per Block                                              byte/block                              0\n",
            "    Dynamic Shared Memory Per Block                                             byte/block                              0\n",
            "    Static Shared Memory Per Block                                              byte/block                              0\n",
            "    Threads                                                                         thread                          1,024\n",
            "    Waves Per SM                                                                                                     0.03\n",
            "    ---------------------------------------------------------------------- --------------- ------------------------------\n",
            "    WRN   The grid for this launch is configured to execute only 8 blocks, which is less than the GPU's 40              \n",
            "          multiprocessors. This can underutilize some multiprocessors. If you do not intend to execute this kernel      \n",
            "          concurrently with other workloads, consider reducing the block size to have at least one block per            \n",
            "          multiprocessor or increase the size of the grid to fully utilize the available hardware resources.            \n",
            "\n",
            "    Section: Occupancy\n",
            "    ---------------------------------------------------------------------- --------------- ------------------------------\n",
            "    Block Limit SM                                                                   block                             16\n",
            "    Block Limit Registers                                                            block                             32\n",
            "    Block Limit Shared Mem                                                           block                             16\n",
            "    Block Limit Warps                                                                block                              8\n",
            "    Theoretical Active Warps per SM                                                   warp                             32\n",
            "    Theoretical Occupancy                                                                %                            100\n",
            "    Achieved Occupancy                                                                   %                          12.13\n",
            "    Achieved Active Warps Per SM                                                      warp                           3.88\n",
            "    ---------------------------------------------------------------------- --------------- ------------------------------\n",
            "\n"
          ]
        }
      ]
    },
    {
      "cell_type": "code",
      "source": [
        "!/usr/local/cuda-11/bin/nv-nsight-cu-cli ./lab3_ex1 131070"
      ],
      "metadata": {
        "colab": {
          "base_uri": "https://localhost:8080/"
        },
        "id": "jrwAcRaEKSlS",
        "outputId": "56a7ff6f-2bbb-47a3-d6ce-97b02a454e5d"
      },
      "execution_count": null,
      "outputs": [
        {
          "output_type": "stream",
          "name": "stdout",
          "text": [
            "The input length is 131070\n",
            "==PROF== Connected to process 380 (/content/lab3_ex1)\n",
            "==PROF== Profiling \"vecAdd\" - 1: 0%....50%....100% - 8 passes\n",
            "sum verified: Correct!\n",
            "Time Host->Device: 0.000689 - Time Device->Host: 0.000867\n",
            "CPU time: 0.000914 - GPU time: 0.695896\n",
            "==PROF== Disconnected from process 380\n",
            "[380] lab3_ex1@127.0.0.1\n",
            "  vecAdd(double*, double*, double*, int), 2022-Dec-15 19:01:11, Context 1, Stream 7\n",
            "    Section: GPU Speed Of Light\n",
            "    ---------------------------------------------------------------------- --------------- ------------------------------\n",
            "    DRAM Frequency                                                           cycle/nsecond                           4.91\n",
            "    SM Frequency                                                             cycle/usecond                         573.05\n",
            "    Elapsed Cycles                                                                   cycle                          6,512\n",
            "    Memory [%]                                                                           %                          63.63\n",
            "    SOL DRAM                                                                             %                          63.63\n",
            "    Duration                                                                       usecond                          11.36\n",
            "    SOL L1/TEX Cache                                                                     %                          31.89\n",
            "    SOL L2 Cache                                                                         %                          32.53\n",
            "    SM Active Cycles                                                                 cycle                       5,138.40\n",
            "    SM [%]                                                                               %                          25.17\n",
            "    ---------------------------------------------------------------------- --------------- ------------------------------\n",
            "    WRN   Memory is more heavily utilized than Compute: Look at the Memory Workload Analysis report section to see      \n",
            "          where the memory system bottleneck is. Check memory replay (coalescing) metrics to make sure you're           \n",
            "          efficiently utilizing the bytes transferred. Also consider whether it is possible to do more work per memory  \n",
            "          access (kernel fusion) or whether there are values you can (re)compute.                                       \n",
            "\n",
            "    Section: Launch Statistics\n",
            "    ---------------------------------------------------------------------- --------------- ------------------------------\n",
            "    Block Size                                                                                                        128\n",
            "    Function Cache Configuration                                                                  cudaFuncCachePreferNone\n",
            "    Grid Size                                                                                                       1,024\n",
            "    Registers Per Thread                                                   register/thread                             16\n",
            "    Shared Memory Configuration Size                                                 Kbyte                          32.77\n",
            "    Driver Shared Memory Per Block                                              byte/block                              0\n",
            "    Dynamic Shared Memory Per Block                                             byte/block                              0\n",
            "    Static Shared Memory Per Block                                              byte/block                              0\n",
            "    Threads                                                                         thread                        131,072\n",
            "    Waves Per SM                                                                                                     3.20\n",
            "    ---------------------------------------------------------------------- --------------- ------------------------------\n",
            "    WRN   A wave of thread blocks is defined as the maximum number of blocks that can be executed in parallel on the    \n",
            "          target GPU. The number of blocks in a wave depends on the number of multiprocessors and the theoretical       \n",
            "          occupancy of the kernel. This kernel launch results in 3 full waves and a partial wave of 64 thread blocks.   \n",
            "          Under the assumption of a uniform execution duration of all thread blocks, the partial wave may account for   \n",
            "          up to 25.0% of the total kernel runtime with a lower occupancy of 22.0%. Try launching a grid with no         \n",
            "          partial wave. The overall impact of this tail effect also lessens with the number of full waves executed for  \n",
            "          a grid.                                                                                                       \n",
            "\n",
            "    Section: Occupancy\n",
            "    ---------------------------------------------------------------------- --------------- ------------------------------\n",
            "    Block Limit SM                                                                   block                             16\n",
            "    Block Limit Registers                                                            block                             32\n",
            "    Block Limit Shared Mem                                                           block                             16\n",
            "    Block Limit Warps                                                                block                              8\n",
            "    Theoretical Active Warps per SM                                                   warp                             32\n",
            "    Theoretical Occupancy                                                                %                            100\n",
            "    Achieved Occupancy                                                                   %                          78.03\n",
            "    Achieved Active Warps Per SM                                                      warp                          24.97\n",
            "    ---------------------------------------------------------------------- --------------- ------------------------------\n",
            "\n"
          ]
        }
      ]
    },
    {
      "cell_type": "markdown",
      "source": [
        "## Questions\n",
        "\n",
        "\n",
        "####2.For a vector length of N:\n",
        "\n",
        "###### (1) How many floating operations are being performed in your vector add kernel?\n",
        "<br/>\n",
        "N \n",
        "\n",
        "###### (2) How many global memory reads are being performed by your kernel? \n",
        "<br/> \n",
        "2N\n",
        "\n",
        "####3.For a vector length of 1024:\n",
        "\n",
        "###### (1) Explain how many CUDA threads and thread blocks you used.\n",
        "<br/> \n",
        "128 CUDA threads and 8block\n",
        "\n",
        "###### (2) Profile your program with Nvidia Nsight. What Achieved Occupancy did you get?\n",
        "<br/> \n",
        "12.13%\n",
        "\n",
        "#### 4.For a vector length of 131070:\n",
        "\n",
        "###### (1) Did your program still work? If not, what changes did you make?\n",
        "<br/> \n",
        "Yes, it works\n",
        "\n",
        "###### (2) Explain how many CUDA threads and thread blocks you used.\n",
        "<br/> \n",
        "threads per block :128  \n",
        "blocks :1024\n",
        "\n",
        "###### (3) Profile your program with Nvidia Nsight. What Achieved Occupancy do you get now?\n",
        "<br/> \n",
        "\n",
        "78.03%\n",
        "  \n",
        "##### 5.Further increase the vector length (try 6-10 different vector length), plot a stacked bar chart showing the breakdown of time including (1) data copy from host to device (2) the CUDA kernel (3) data copy from device to host. For this, you will need to add simple CPU timers to your code regions.\n"
      ],
      "metadata": {
        "id": "L_Oir0HihEBZ"
      }
    },
    {
      "cell_type": "code",
      "source": [
        "import matplotlib.pyplot as plt\n",
        "import numpy as np\n",
        "\n",
        "vector_lengths = ['131070', '467346', '5732823', '12345678', '68294692', '134217728']\n",
        "datacpy_h2d = np.array([0.655, 1.705, 19.182, 42.215, 225.947, 445.338])\n",
        "datacpy_d2h = np.array([0.779, 2.493, 30.252, 72.900, 346.645, 677.716])\n",
        "cuda_kernel = np.array([0.028, 0.088, 0.559, 1.143, 6.246, 12.331])\n",
        "\n",
        "width = 0.4\n",
        "plt.figure(figsize =(10, 6))\n",
        "\n",
        "plt.bar(vector_lengths, cuda_kernel, width, label='CUDA kernel')\n",
        "plt.bar(vector_lengths, datacpy_h2d, width, bottom=cuda_kernel,\n",
        "       label='Data copy (H2D)')\n",
        "plt.bar(vector_lengths, datacpy_d2h, width, bottom=datacpy_h2d+cuda_kernel,\n",
        "       label='Data copy (D2H)')\n",
        "\n",
        "plt.xlabel('Vector lengths')\n",
        "plt.ylabel('Execution time (ms)')\n",
        "plt.title('Breakdown of time')\n",
        "plt.legend()\n",
        "\n",
        "plt.show()"
      ],
      "metadata": {
        "id": "hEgoUa7BlX3x",
        "colab": {
          "base_uri": "https://localhost:8080/",
          "height": 404
        },
        "outputId": "81c0ada7-8b94-4a5e-af91-adb68736e270"
      },
      "execution_count": null,
      "outputs": [
        {
          "output_type": "display_data",
          "data": {
            "text/plain": [
              "<Figure size 720x432 with 1 Axes>"
            ],
            "image/png": "[encoded data removed]"
          },
          "metadata": {
            "needs_background": "light"
          }
        }
      ]
    },
    {
      "cell_type": "markdown",
      "source": [
        "# EX2\n",
        "\n",
        "### Compile"
      ],
      "metadata": {
        "id": "kehiq6hqxJq3"
      }
    },
    {
      "cell_type": "code",
      "source": [
        "!nvcc /content/drive/MyDrive/lab3_ex2.cu -o lab3_ex2"
      ],
      "metadata": {
        "id": "wwD0UlzQxM-N"
      },
      "execution_count": null,
      "outputs": []
    },
    {
      "cell_type": "markdown",
      "source": [
        "### Run"
      ],
      "metadata": {
        "id": "qA0qf2_fxQZx"
      }
    },
    {
      "cell_type": "code",
      "source": [
        "!./lab3_ex2 128 128 128 128"
      ],
      "metadata": {
        "colab": {
          "base_uri": "https://localhost:8080/"
        },
        "id": "V4wDmfR8lsjd",
        "outputId": "dc466ea5-4532-44b2-8e2d-82690b898ed1"
      },
      "execution_count": null,
      "outputs": [
        {
          "output_type": "stream",
          "name": "stdout",
          "text": [
            "Input matrix dim (128 x 128) (128 x 128) (128 x 128)\n",
            "Host to Device Time: 0.000093\n",
            "CUDA Kernel Time: 0.000147\n",
            "Device to Host Time: 0.000127\n",
            "Results are equal.\n"
          ]
        }
      ]
    },
    {
      "cell_type": "code",
      "source": [
        "!/usr/local/cuda-11/bin/nv-nsight-cu-cli ./lab3_ex2 128 128 128 128"
      ],
      "metadata": {
        "colab": {
          "base_uri": "https://localhost:8080/"
        },
        "id": "pgdtHhibl9HE",
        "outputId": "e44dd7f5-f26a-495f-e5b1-2abcfb4fd1bd"
      },
      "execution_count": null,
      "outputs": [
        {
          "output_type": "stream",
          "name": "stdout",
          "text": [
            "Input matrix dim (128 x 128) (128 x 128) (128 x 128)\n",
            "==PROF== Connected to process 444 (/content/lab3_ex2)\n",
            "Host to Device Time: 0.000116\n",
            "==PROF== Profiling \"gemm\" - 1: 0%....50%....100% - 8 passes\n",
            "CUDA Kernel Time: 0.656891\n",
            "Device to Host Time: 0.000140\n",
            "Results are equal.\n",
            "==PROF== Disconnected from process 444\n",
            "[444] lab3_ex2@127.0.0.1\n",
            "  gemm(double*, double*, double*, int, int, int, int), 2022-Dec-16 01:41:35, Context 1, Stream 7\n",
            "    Section: GPU Speed Of Light\n",
            "    ---------------------------------------------------------------------- --------------- ------------------------------\n",
            "    DRAM Frequency                                                           cycle/nsecond                           4.99\n",
            "    SM Frequency                                                             cycle/usecond                         584.81\n",
            "    Elapsed Cycles                                                                   cycle                         71,435\n",
            "    Memory [%]                                                                           %                           9.28\n",
            "    SOL DRAM                                                                             %                           1.15\n",
            "    Duration                                                                       usecond                         122.14\n",
            "    SOL L1/TEX Cache                                                                     %                          23.71\n",
            "    SOL L2 Cache                                                                         %                           1.16\n",
            "    SM Active Cycles                                                                 cycle                      27,965.85\n",
            "    SM [%]                                                                               %                          36.70\n",
            "    ---------------------------------------------------------------------- --------------- ------------------------------\n",
            "    WRN   This kernel grid is too small to fill the available resources on this device, resulting in only 0.4 full      \n",
            "          waves across all SMs. Look at Launch Statistics for more details.                                             \n",
            "\n",
            "    Section: Launch Statistics\n",
            "    ---------------------------------------------------------------------- --------------- ------------------------------\n",
            "    Block Size                                                                                                      1,024\n",
            "    Function Cache Configuration                                                                  cudaFuncCachePreferNone\n",
            "    Grid Size                                                                                                          16\n",
            "    Registers Per Thread                                                   register/thread                             62\n",
            "    Shared Memory Configuration Size                                                 Kbyte                          32.77\n",
            "    Driver Shared Memory Per Block                                              byte/block                              0\n",
            "    Dynamic Shared Memory Per Block                                             byte/block                              0\n",
            "    Static Shared Memory Per Block                                              byte/block                              0\n",
            "    Threads                                                                         thread                         16,384\n",
            "    Waves Per SM                                                                                                     0.40\n",
            "    ---------------------------------------------------------------------- --------------- ------------------------------\n",
            "    WRN   The grid for this launch is configured to execute only 16 blocks, which is less than the GPU's 40             \n",
            "          multiprocessors. This can underutilize some multiprocessors. If you do not intend to execute this kernel      \n",
            "          concurrently with other workloads, consider reducing the block size to have at least one block per            \n",
            "          multiprocessor or increase the size of the grid to fully utilize the available hardware resources.            \n",
            "\n",
            "    Section: Occupancy\n",
            "    ---------------------------------------------------------------------- --------------- ------------------------------\n",
            "    Block Limit SM                                                                   block                             16\n",
            "    Block Limit Registers                                                            block                              1\n",
            "    Block Limit Shared Mem                                                           block                             16\n",
            "    Block Limit Warps                                                                block                              1\n",
            "    Theoretical Active Warps per SM                                                   warp                             32\n",
            "    Theoretical Occupancy                                                                %                            100\n",
            "    Achieved Occupancy                                                                   %                          96.31\n",
            "    Achieved Active Warps Per SM                                                      warp                          30.82\n",
            "    ---------------------------------------------------------------------- --------------- ------------------------------\n",
            "\n"
          ]
        }
      ]
    },
    {
      "cell_type": "code",
      "source": [
        "!./lab3_ex2 511 1023 1023 4094"
      ],
      "metadata": {
        "colab": {
          "base_uri": "https://localhost:8080/"
        },
        "id": "9vtg5SvqxTgO",
        "outputId": "e8fed2bd-b5d1-49dc-b8fa-a320fc9afb59"
      },
      "execution_count": null,
      "outputs": [
        {
          "output_type": "stream",
          "name": "stdout",
          "text": [
            "Input matrix dim (511 x 1023) (1023 x 4094) (511 x 4094)\n",
            "Host to Device Time: 0.007887\n",
            "CUDA Kernel Time: 0.048108\n",
            "Device to Host Time: 0.010410\n",
            "Results are equal.\n"
          ]
        }
      ]
    },
    {
      "cell_type": "code",
      "source": [
        "!/usr/local/cuda-11/bin/nv-nsight-cu-cli ./lab3_ex2 511 1023 1023 4094"
      ],
      "metadata": {
        "colab": {
          "base_uri": "https://localhost:8080/"
        },
        "id": "HoM7G2BExVxo",
        "outputId": "970eb537-2a24-4505-eb33-aec405800b25"
      },
      "execution_count": null,
      "outputs": [
        {
          "output_type": "stream",
          "name": "stdout",
          "text": [
            "Input matrix dim (511 x 1023) (1023 x 4094) (511 x 4094)\n",
            "==PROF== Connected to process 349 (/content/lab3_ex2)\n",
            "Host to Device Time: 0.007832\n",
            "==PROF== Profiling \"gemm\" - 1: 0%....50%....100% - 8 passes\n",
            "CUDA Kernel Time: 1.172642\n",
            "Device to Host Time: 0.010650\n",
            "Results are equal.\n",
            "==PROF== Disconnected from process 349\n",
            "[349] lab3_ex2@127.0.0.1\n",
            "  gemm(double*, double*, double*, int, int, int, int), 2022-Dec-16 01:36:29, Context 1, Stream 7\n",
            "    Section: GPU Speed Of Light\n",
            "    ---------------------------------------------------------------------- --------------- ------------------------------\n",
            "    DRAM Frequency                                                           cycle/nsecond                           5.00\n",
            "    SM Frequency                                                             cycle/usecond                         584.98\n",
            "    Elapsed Cycles                                                                   cycle                     28,105,962\n",
            "    Memory [%]                                                                           %                          25.31\n",
            "    SOL DRAM                                                                             %                           5.41\n",
            "    Duration                                                                       msecond                          48.05\n",
            "    SOL L1/TEX Cache                                                                     %                          50.62\n",
            "    SOL L2 Cache                                                                         %                           2.91\n",
            "    SM Active Cycles                                                                 cycle                  27,710,813.23\n",
            "    SM [%]                                                                               %                          95.23\n",
            "    ---------------------------------------------------------------------- --------------- ------------------------------\n",
            "    OK    The kernel is utilizing greater than 80.0% of the available compute or memory performance of the device. To   \n",
            "          further improve performance, work will likely need to be shifted from the most utilized to another unit.      \n",
            "          Start by analyzing workloads in the Compute Workload Analysis section.                                        \n",
            "\n",
            "    Section: Launch Statistics\n",
            "    ---------------------------------------------------------------------- --------------- ------------------------------\n",
            "    Block Size                                                                                                      1,024\n",
            "    Function Cache Configuration                                                                  cudaFuncCachePreferNone\n",
            "    Grid Size                                                                                                       2,048\n",
            "    Registers Per Thread                                                   register/thread                             62\n",
            "    Shared Memory Configuration Size                                                 Kbyte                          32.77\n",
            "    Driver Shared Memory Per Block                                              byte/block                              0\n",
            "    Dynamic Shared Memory Per Block                                             byte/block                              0\n",
            "    Static Shared Memory Per Block                                              byte/block                              0\n",
            "    Threads                                                                         thread                      2,097,152\n",
            "    Waves Per SM                                                                                                    51.20\n",
            "    ---------------------------------------------------------------------- --------------- ------------------------------\n",
            "\n",
            "    Section: Occupancy\n",
            "    ---------------------------------------------------------------------- --------------- ------------------------------\n",
            "    Block Limit SM                                                                   block                             16\n",
            "    Block Limit Registers                                                            block                              1\n",
            "    Block Limit Shared Mem                                                           block                             16\n",
            "    Block Limit Warps                                                                block                              1\n",
            "    Theoretical Active Warps per SM                                                   warp                             32\n",
            "    Theoretical Occupancy                                                                %                            100\n",
            "    Achieved Occupancy                                                                   %                          98.57\n",
            "    Achieved Active Warps Per SM                                                      warp                          31.54\n",
            "    ---------------------------------------------------------------------- --------------- ------------------------------\n",
            "\n"
          ]
        }
      ]
    },
    {
      "cell_type": "markdown",
      "source": [
        "### Questions\n",
        "##### 1.Name three applications domains of matrix multiplication.\n",
        "<br/> \n",
        "\n",
        "Machine Learning, Computer Graphics, Robotics\n",
        "\n",
        "##### 2.How many floating operations are being performed in your matrix multiply kernel? \n",
        "<br/> \n",
        "2 * numARows * numBColumns * numAColumns \n",
        "  \n",
        "##### 3.How many global memory reads are being performed by your kernel?\n",
        "<br/> \n",
        "3 * numARows * numBColumns * numAColumns\n",
        "\n",
        "##### 4.For a matrix A of (128x128) and B of (128x128):\n",
        "###### (1) Explain how many CUDA threads and thread blocks you used.\n",
        "<br/> \n",
        "32 thread per block X, 32 thread per block Y, 4 blocks X, 4 blocks Y\n",
        "\n",
        "###### (2) Profile your program with Nvidia Nsight. What Achieved Occupancy did you get?\n",
        "<br/> \n",
        "96.31%\n",
        "\n",
        "##### 5.For a matrix A of (511x1023) and B of (1023x4094):  \n",
        "<br/> \n",
        "###### (1) Did your program still work? If not, what changes did you make?\n",
        "<br/> \n",
        "Yes\n",
        "\n",
        "###### (2) Explain how many CUDA threads and thread blocks you used.\n",
        "<br/> \n",
        "32 thread per block X, 32 thread per block Y, 128 blocks X, 16 blocks Y\n",
        "\n",
        "###### (3) Profile your program with Nvidia Nsight. What Achieved Occupancy do you get now?\n",
        "<br/> \n",
        " 98.57%\n",
        "  \n",
        "#####6.Further increase the size of matrix A and B, plot a stacked bar chart showing the breakdown of time including (1) data copy from host to device (2) the CUDA kernel (3) data copy from device to host. For this, you will need to add simple CPU timers to your code regions. Explain what you observe.\n",
        "  \n",
        "CUDA takes the most of time during the execution with the increasing of matrix size and Device to Host takes more time than Host to Device."
      ],
      "metadata": {
        "id": "uFlxYpT3xZX5"
      }
    },
    {
      "cell_type": "code",
      "source": [
        "!./lab3_ex2 511 1023 1023 4094"
      ],
      "metadata": {
        "colab": {
          "base_uri": "https://localhost:8080/"
        },
        "id": "YvM98e8Ny6Rs",
        "outputId": "8a1a93a9-4bce-4547-a1bb-17bc67800a45"
      },
      "execution_count": null,
      "outputs": [
        {
          "output_type": "stream",
          "name": "stdout",
          "text": [
            "Input matrix dim (511 x 1023) (1023 x 4094) (511 x 4094)\n",
            "Host to Device Time: 0.008185\n",
            "CUDA Kernel Time: 0.048118\n",
            "Device to Host Time: 0.010838\n",
            "Results are equal.\n"
          ]
        }
      ]
    },
    {
      "cell_type": "code",
      "source": [
        "!./lab3_ex2 512 1024 1024 4096"
      ],
      "metadata": {
        "colab": {
          "base_uri": "https://localhost:8080/"
        },
        "id": "63ePWGEKz-LH",
        "outputId": "0b368cf8-58e6-4349-d4b6-1e1759ddddc9"
      },
      "execution_count": null,
      "outputs": [
        {
          "output_type": "stream",
          "name": "stdout",
          "text": [
            "Input matrix dim (512 x 1024) (1024 x 4096) (512 x 4096)\n",
            "Host to Device Time: 0.008030\n",
            "CUDA Kernel Time: 0.048325\n",
            "Device to Host Time: 0.010827\n",
            "Results are equal.\n"
          ]
        }
      ]
    },
    {
      "cell_type": "code",
      "source": [
        "!./lab3_ex2 768 1024 1024 4096"
      ],
      "metadata": {
        "colab": {
          "base_uri": "https://localhost:8080/"
        },
        "id": "eckQ5Cuw0I-W",
        "outputId": "7552edc8-3e04-4ee4-ffee-e0069a1b79fa"
      },
      "execution_count": null,
      "outputs": [
        {
          "output_type": "stream",
          "name": "stdout",
          "text": [
            "Input matrix dim (768 x 1024) (1024 x 4096) (768 x 4096)\n",
            "Host to Device Time: 0.008762\n",
            "CUDA Kernel Time: 0.071625\n",
            "Device to Host Time: 0.016413\n",
            "Results are equal.\n"
          ]
        }
      ]
    },
    {
      "cell_type": "code",
      "source": [
        "!./lab3_ex2 1024 1024 1024 4096"
      ],
      "metadata": {
        "colab": {
          "base_uri": "https://localhost:8080/"
        },
        "id": "tqx_wqm70N4f",
        "outputId": "a20eb10f-e621-4f1a-db7e-55882bc56301"
      },
      "execution_count": null,
      "outputs": [
        {
          "output_type": "stream",
          "name": "stdout",
          "text": [
            "Input matrix dim (1024 x 1024) (1024 x 4096) (1024 x 4096)\n",
            "Host to Device Time: 0.009408\n",
            "CUDA Kernel Time: 0.095655\n",
            "Device to Host Time: 0.026338\n",
            "Results are equal.\n"
          ]
        }
      ]
    },
    {
      "cell_type": "code",
      "source": [
        "!./lab3_ex2 1536 1024 1024 4096"
      ],
      "metadata": {
        "colab": {
          "base_uri": "https://localhost:8080/"
        },
        "id": "nEpx2Xto0Sue",
        "outputId": "dbbb0f2c-3e12-4b6f-945b-33780a9c0f2b"
      },
      "execution_count": null,
      "outputs": [
        {
          "output_type": "stream",
          "name": "stdout",
          "text": [
            "Input matrix dim (1536 x 1024) (1024 x 4096) (1536 x 4096)\n",
            "Host to Device Time: 0.010097\n",
            "CUDA Kernel Time: 0.134480\n",
            "Device to Host Time: 0.032755\n",
            "Results are equal.\n"
          ]
        }
      ]
    },
    {
      "cell_type": "code",
      "source": [
        "!./lab3_ex2 1536 1536 1536 4096"
      ],
      "metadata": {
        "colab": {
          "base_uri": "https://localhost:8080/"
        },
        "id": "qBtr8Kw20feY",
        "outputId": "1391414f-3fd2-48a1-fd8b-5eb9768951a5"
      },
      "execution_count": null,
      "outputs": [
        {
          "output_type": "stream",
          "name": "stdout",
          "text": [
            "Input matrix dim (1536 x 1536) (1536 x 4096) (1536 x 4096)\n",
            "Host to Device Time: 0.015604\n",
            "CUDA Kernel Time: 0.184170\n",
            "Device to Host Time: 0.035177\n",
            "Results are equal.\n"
          ]
        }
      ]
    },
    {
      "cell_type": "code",
      "source": [
        "!./lab3_ex2 2048 2048 2048 4096"
      ],
      "metadata": {
        "colab": {
          "base_uri": "https://localhost:8080/"
        },
        "id": "COxqJqH80kZj",
        "outputId": "7e14c32b-4e80-424a-eec4-655248ba18c8"
      },
      "execution_count": null,
      "outputs": [
        {
          "output_type": "stream",
          "name": "stdout",
          "text": [
            "Input matrix dim (2048 x 2048) (2048 x 4096) (2048 x 4096)\n",
            "Host to Device Time: 0.023318\n",
            "CUDA Kernel Time: 0.307939\n",
            "Device to Host Time: 0.044084\n",
            "Results are equal.\n"
          ]
        }
      ]
    },
    {
      "cell_type": "code",
      "source": [
        "import matplotlib.pyplot as plt\n",
        "import numpy as np\n",
        "\n",
        "matrix_sizes = ['(512x1024) x (1024x4096)', '(768x1024) x (1024x4096)', '(1024x1024) x (1024x4096)',\n",
        "                '(1536x1024) x (1024x4096)', '(1536x1536) x (1536x4096)', '(2048x1536) x (1536x4096)']\n",
        "cuda_kernel = np.array([48.118, 71.625, 95.655, 134.480, 184.170, 307.939])\n",
        "datacpy_d2h = np.array([10.838, 16.413, 26.338, 32.755, 35.177, 44.084])\n",
        "datacpy_h2d = np.array([8.185, 8.762, 9.408, 10.097, 15.604, 23.318])\n",
        "\n",
        "plt.figure(figsize=(15, 6))\n",
        "plt.bar(matrix_sizes, datacpy_h2d, label='Host to Device')\n",
        "plt.bar(matrix_sizes, cuda_kernel, bottom=datacpy_h2d, label='CUDA')\n",
        "plt.bar(matrix_sizes, datacpy_d2h, bottom=cuda_kernel + datacpy_h2d, label='Device to Host')\n",
        "plt.title('Breakdown Time')\n",
        "plt.xlabel('Matrix Size')\n",
        "plt.ylabel('Time')\n",
        "plt.legend()\n",
        "plt.show()\n",
        "     "
      ],
      "metadata": {
        "colab": {
          "base_uri": "https://localhost:8080/",
          "height": 290
        },
        "id": "5aHMwMCRDo1o",
        "outputId": "70596ecd-445a-42c6-cf0c-39ae5bf4005c"
      },
      "execution_count": null,
      "outputs": [
        {
          "output_type": "display_data",
          "data": {
            "text/plain": [
              "<Figure size 1080x432 with 1 Axes>"
            ],
            "image/png": "[encoded data removed]"
          },
          "metadata": {
            "needs_background": "light"
          }
        }
      ]
    },
    {
      "cell_type": "markdown",
      "source": [
        "###### 7.Now, change DataType from double to float, re-plot the a stacked bar chart showing the time breakdown. Explain what you observe. \n",
        " "
      ],
      "metadata": {
        "id": "PPLKVnaSvs-3"
      }
    },
    {
      "cell_type": "code",
      "source": [
        "!nvcc /content/drive/MyDrive/lab3_ex2_float.cu -o lab3_ex2_float"
      ],
      "metadata": {
        "id": "bQKRj46sDp13"
      },
      "execution_count": null,
      "outputs": []
    },
    {
      "cell_type": "code",
      "source": [
        "!./lab3_ex2_float 512 1024 1024 4096"
      ],
      "metadata": {
        "colab": {
          "base_uri": "https://localhost:8080/"
        },
        "id": "c1fpSFjNyvnu",
        "outputId": "50d50964-3e8b-4f5c-f153-23dc0ed055a3"
      },
      "execution_count": null,
      "outputs": [
        {
          "output_type": "stream",
          "name": "stdout",
          "text": [
            "Input matrix dim (512 x 1024) (1024 x 4096) (512 x 4096)\n",
            "CPU Time: 28.463904\n",
            "Host to Device Time: 0.004184\n",
            "CUDA Kernel Time: 0.013507\n",
            "Device to Host Time: 0.005952\n",
            "Results are equal.\n"
          ]
        }
      ]
    },
    {
      "cell_type": "code",
      "source": [
        "!./lab3_ex2_float 768 1024 1024 4096"
      ],
      "metadata": {
        "colab": {
          "base_uri": "https://localhost:8080/"
        },
        "id": "Gqm0h7Dr5y5l",
        "outputId": "2bef6dfd-e0b0-45bc-e6aa-e74eb12ef0d6"
      },
      "execution_count": null,
      "outputs": [
        {
          "output_type": "stream",
          "name": "stdout",
          "text": [
            "Input matrix dim (768 x 1024) (1024 x 4096) (768 x 4096)\n",
            "CPU Time: 37.914191\n",
            "Host to Device Time: 0.004753\n",
            "CUDA Kernel Time: 0.020047\n",
            "Device to Host Time: 0.010049\n",
            "Results are equal.\n"
          ]
        }
      ]
    },
    {
      "cell_type": "code",
      "source": [
        "!./lab3_ex2_float 1024 1024 1024 4096"
      ],
      "metadata": {
        "colab": {
          "base_uri": "https://localhost:8080/"
        },
        "id": "BHf7IgB852gQ",
        "outputId": "5c2a4e24-9971-48a0-edf0-16c6fed94dcc"
      },
      "execution_count": null,
      "outputs": [
        {
          "output_type": "stream",
          "name": "stdout",
          "text": [
            "Input matrix dim (1024 x 1024) (1024 x 4096) (1024 x 4096)\n",
            "CPU Time: 51.439631\n",
            "Host to Device Time: 0.004565\n",
            "CUDA Kernel Time: 0.026724\n",
            "Device to Host Time: 0.011516\n",
            "Results are equal.\n"
          ]
        }
      ]
    },
    {
      "cell_type": "code",
      "source": [
        "!./lab3_ex2_float 1536 1024 1024 4096"
      ],
      "metadata": {
        "colab": {
          "base_uri": "https://localhost:8080/"
        },
        "id": "lIIojP0U547Y",
        "outputId": "149fcec1-afcf-4111-ab0f-8a8243b687fe"
      },
      "execution_count": null,
      "outputs": [
        {
          "output_type": "stream",
          "name": "stdout",
          "text": [
            "Input matrix dim (1536 x 1024) (1024 x 4096) (1536 x 4096)\n",
            "CPU Time: 76.811406\n",
            "Host to Device Time: 0.005169\n",
            "CUDA Kernel Time: 0.039953\n",
            "Device to Host Time: 0.018003\n",
            "Results are equal.\n"
          ]
        }
      ]
    },
    {
      "cell_type": "code",
      "source": [
        "!./lab3_ex2_float 1536 1536 1536 4096"
      ],
      "metadata": {
        "colab": {
          "base_uri": "https://localhost:8080/"
        },
        "id": "BrAzyHSG6bZX",
        "outputId": "f9df40bc-2fe2-4365-a87a-d7fe88030027"
      },
      "execution_count": null,
      "outputs": [
        {
          "output_type": "stream",
          "name": "stdout",
          "text": [
            "Input matrix dim (1536 x 1536) (1536 x 4096) (1536 x 4096)\n",
            "CPU Time: 120.423336\n",
            "Host to Device Time: 0.007727\n",
            "CUDA Kernel Time: 0.059737\n",
            "Device to Host Time: 0.018236\n",
            "Results are equal.\n"
          ]
        }
      ]
    },
    {
      "cell_type": "code",
      "source": [
        "!./lab3_ex2_float 2048 2048 2048 4096"
      ],
      "metadata": {
        "colab": {
          "base_uri": "https://localhost:8080/"
        },
        "id": "ohv7uM7n6o-G",
        "outputId": "dd9250ea-d2f4-47e4-f0df-adfb54baa44d"
      },
      "execution_count": null,
      "outputs": [
        {
          "output_type": "stream",
          "name": "stdout",
          "text": [
            "Input matrix dim (2048 x 2048) (2048 x 4096) (2048 x 4096)\n",
            "CPU Time: 331.076652\n",
            "Host to Device Time: 0.011621\n",
            "CUDA Kernel Time: 0.105853\n",
            "Device to Host Time: 0.022692\n",
            "Results are equal.\n"
          ]
        }
      ]
    },
    {
      "cell_type": "code",
      "source": [
        "import matplotlib.pyplot as plt\n",
        "import numpy as np\n",
        "\n",
        "matrix_sizes = ['(512x1024) x (1024x4096)', '(768x1024) x (1024x4096)', '(1024x1024) x (1024x4096)',\n",
        "                '(1536x1024) x (1024x4096)', '(1536x1536) x (1536x4096)', '(2048x1536) x (1536x4096)']\n",
        "cuda_kernel = np.array([13.507, 20.047, 26.724, 39.953, 59.737, 105.853])\n",
        "datacpy_d2h = np.array([5.952, 4.753, 11.516, 18.003, 18.236, 22.692])\n",
        "datacpy_h2d = np.array([4.184, 4.753, 4.565, 5.169, 7.727, 11.621])\n",
        "\n",
        "plt.figure(figsize=(15, 6))\n",
        "plt.bar(matrix_sizes, datacpy_h2d, label='Host to Device')\n",
        "plt.bar(matrix_sizes, cuda_kernel, bottom=datacpy_h2d, label='CUDA')\n",
        "plt.bar(matrix_sizes, datacpy_d2h, bottom=cuda_kernel + datacpy_h2d, label='Device to Host')\n",
        "plt.title('Breakdown Time')\n",
        "plt.xlabel('Matrix Size')\n",
        "plt.ylabel('Time')\n",
        "plt.legend()\n",
        "plt.show()"
      ],
      "metadata": {
        "id": "JlQeF0cH6tbL",
        "colab": {
          "base_uri": "https://localhost:8080/",
          "height": 404
        },
        "outputId": "3255c8a9-4b25-46d2-ae14-0d7333a392a6"
      },
      "execution_count": null,
      "outputs": [
        {
          "output_type": "display_data",
          "data": {
            "text/plain": [
              "<Figure size 1080x432 with 1 Axes>"
            ],
            "image/png": "[encoded data removed]"
          },
          "metadata": {
            "needs_background": "light"
          }
        }
      ]
    },
    {
      "cell_type": "markdown",
      "source": [
        "It uses less time while changing DataType to float because float is half size of double."
      ],
      "metadata": {
        "id": "l7ArKh-vRKsw"
      }
    },
    {
      "cell_type": "markdown",
      "source": [
        "# EX3\n",
        "\n",
        "### Questions\n",
        "##### 1.Describe all optimizations you tried regardless of whether you committed to them or abandoned them and whether they improved or hurt performance.\n",
        "<br/> \n",
        "  I use atomic to write directly. I use atomicAdd to avoid race condition.\n",
        "##### 2.Which optimizations you chose in the end and why? \n",
        "<br/> \n",
        "I choose global memory since the input data is not too large.\n",
        "##### 3.How many global memory reads are being performed by your kernel? Explain\n",
        "<br/> \n",
        "histogram_kernel: 2 * numElements , because the add function is excecuted.\n",
        "\n",
        "convert_kernel: numBins , it need iterate through bins.\n",
        "  \n",
        "\n",
        "##### 4.How many atomic operations are being performed by your kernel? Explain\n",
        "<br/> \n",
        "\n",
        "##### 5.How much shared memory is used in your code? Explain\n",
        "<br/> \n",
        "histogram_kernel: numElements\n",
        "\n",
        "convert_kernel: none\n",
        "##### 6.How would the value distribution of the input array affect the contention among threads? For instance, what contentions would you expect if every element in the array has the same value? \n",
        "<br/> \n",
        "If all elements has the same value, we can get max contention.\n"
      ],
      "metadata": {
        "id": "9tjrtQQN61Wm"
      }
    },
    {
      "cell_type": "code",
      "source": [
        "!nvcc /content/drive/MyDrive/lab3_ex3.cu -o lab3_ex3"
      ],
      "metadata": {
        "id": "k_tFyDBL8Y7D"
      },
      "execution_count": null,
      "outputs": []
    },
    {
      "cell_type": "code",
      "source": [
        "!./lab3_ex3 131072"
      ],
      "metadata": {
        "id": "kMVZ3K4h8aWv",
        "colab": {
          "base_uri": "https://localhost:8080/"
        },
        "outputId": "a83ec0b0-9bbc-431c-d3da-90edfd86affa"
      },
      "execution_count": null,
      "outputs": [
        {
          "output_type": "stream",
          "name": "stdout",
          "text": [
            "The input length is 131072\n"
          ]
        }
      ]
    },
    {
      "cell_type": "code",
      "source": [
        "!nvprof ./lab3_ex3 131072"
      ],
      "metadata": {
        "id": "3-QqC_ac86x0",
        "colab": {
          "base_uri": "https://localhost:8080/"
        },
        "outputId": "558f5565-e7fb-4de7-df11-ba06c1c3f09c"
      },
      "execution_count": null,
      "outputs": [
        {
          "output_type": "stream",
          "name": "stdout",
          "text": [
            "The input length is 131072\n",
            "==959== NVPROF is profiling process 959, command: ./lab3_ex3 131072\n",
            "==959== Profiling application: ./lab3_ex3 131072\n",
            "==959== Profiling result:\n",
            "            Type  Time(%)      Time     Calls       Avg       Min       Max  Name\n",
            " GPU activities:   52.02%  46.048us         1  46.048us  46.048us  46.048us  [CUDA memcpy HtoD]\n",
            "                   23.28%  20.608us         1  20.608us  20.608us  20.608us  histogram_kernel(unsigned int*, unsigned int*, unsigned int, unsigned int)\n",
            "                   15.26%  13.504us         1  13.504us  13.504us  13.504us  convert_kernel(unsigned int*, unsigned int)\n",
            "                    5.82%  5.1520us         1  5.1520us  5.1520us  5.1520us  [CUDA memset]\n",
            "                    3.62%  3.2000us         1  3.2000us  3.2000us  3.2000us  [CUDA memcpy DtoH]\n",
            "      API calls:   99.48%  207.86ms         2  103.93ms  3.3070us  207.85ms  cudaMalloc\n",
            "                    0.17%  365.53us         1  365.53us  365.53us  365.53us  cuDeviceTotalMem\n",
            "                    0.12%  241.65us         2  120.83us  42.051us  199.60us  cudaFree\n",
            "                    0.11%  227.49us         2  113.74us  68.116us  159.37us  cudaMemcpy\n",
            "                    0.08%  158.90us       101  1.5730us     142ns  68.823us  cuDeviceGetAttribute\n",
            "                    0.01%  31.156us         1  31.156us  31.156us  31.156us  cuDeviceGetName\n",
            "                    0.01%  25.746us         1  25.746us  25.746us  25.746us  cudaMemset\n",
            "                    0.01%  20.610us         2  10.305us  6.5690us  14.041us  cudaLaunchKernel\n",
            "                    0.00%  5.8630us         1  5.8630us  5.8630us  5.8630us  cuDeviceGetPCIBusId\n",
            "                    0.00%  1.8800us         3     626ns     198ns  1.3320us  cuDeviceGetCount\n",
            "                    0.00%  1.6230us         2     811ns     211ns  1.4120us  cuDeviceGet\n",
            "                    0.00%     250ns         1     250ns     250ns     250ns  cuDeviceGetUuid\n"
          ]
        }
      ]
    },
    {
      "cell_type": "markdown",
      "source": [
        "##### 7.Plot a histogram generated by your code and specify your input length, thread block and grid.\n",
        "<br/> "
      ],
      "metadata": {
        "id": "seq2W44WyUy9"
      }
    },
    {
      "cell_type": "code",
      "source": [
        "import matplotlib.pyplot as plt\n",
        "\n",
        "with open('/content/drive/MyDrive/histogram.txt') as f:\n",
        "    histogram = [int(line.rstrip()) for line in f]\n",
        "\n",
        "plt.figure(figsize=(15, 10))\n",
        "bins = list(range(1,len(histogram)+1))\n",
        "plt.bar(bins, histogram, width=1.0)\n",
        "plt.show()\n",
        "     "
      ],
      "metadata": {
        "id": "wz2ROT3Z9JX_",
        "colab": {
          "base_uri": "https://localhost:8080/",
          "height": 592
        },
        "outputId": "81b5280f-006b-4b18-8326-7dcfc6920500"
      },
      "execution_count": null,
      "outputs": [
        {
          "output_type": "display_data",
          "data": {
            "text/plain": [
              "<Figure size 1080x720 with 1 Axes>"
            ],
            "image/png": "[encoded data removed]"
          },
          "metadata": {
            "needs_background": "light"
          }
        }
      ]
    },
    {
      "cell_type": "code",
      "source": [
        "!/usr/local/cuda-11/bin/nv-nsight-cu-cli ./lab3_ex3 1024"
      ],
      "metadata": {
        "id": "rVjWBm7H87Yg",
        "colab": {
          "base_uri": "https://localhost:8080/"
        },
        "outputId": "8e28b12d-f96e-4f35-93b6-59e3f68c0a8d"
      },
      "execution_count": null,
      "outputs": [
        {
          "output_type": "stream",
          "name": "stdout",
          "text": [
            "The input length is 1024\n",
            "==PROF== Connected to process 996 (/content/lab3_ex3)\n",
            "==PROF== Profiling \"histogram_kernel\" - 1: 0%....50%....100% - 8 passes\n",
            "==PROF== Profiling \"convert_kernel\" - 2: 0%....50%....100% - 8 passes\n",
            "==PROF== Disconnected from process 996\n",
            "[996] lab3_ex3@127.0.0.1\n",
            "  histogram_kernel(unsigned int*, unsigned int*, unsigned int, unsigned int), 2022-Dec-16 15:19:04, Context 1, Stream 7\n",
            "    Section: GPU Speed Of Light\n",
            "    ---------------------------------------------------------------------- --------------- ------------------------------\n",
            "    DRAM Frequency                                                           cycle/nsecond                           4.75\n",
            "    SM Frequency                                                             cycle/usecond                         557.12\n",
            "    Elapsed Cycles                                                                   cycle                          2,176\n",
            "    Memory [%]                                                                           %                           2.48\n",
            "    SOL DRAM                                                                             %                           2.48\n",
            "    Duration                                                                       usecond                           3.90\n",
            "    SOL L1/TEX Cache                                                                     %                           5.21\n",
            "    SOL L2 Cache                                                                         %                           2.07\n",
            "    SM Active Cycles                                                                 cycle                         724.27\n",
            "    SM [%]                                                                               %                           0.36\n",
            "    ---------------------------------------------------------------------- --------------- ------------------------------\n",
            "    WRN   This kernel grid is too small to fill the available resources on this device, resulting in only 0.1 full      \n",
            "          waves across all SMs. Look at Launch Statistics for more details.                                             \n",
            "\n",
            "    Section: Launch Statistics\n",
            "    ---------------------------------------------------------------------- --------------- ------------------------------\n",
            "    Block Size                                                                                                         32\n",
            "    Function Cache Configuration                                                                  cudaFuncCachePreferNone\n",
            "    Grid Size                                                                                                          32\n",
            "    Registers Per Thread                                                   register/thread                             16\n",
            "    Shared Memory Configuration Size                                                 Kbyte                          32.77\n",
            "    Driver Shared Memory Per Block                                              byte/block                              0\n",
            "    Dynamic Shared Memory Per Block                                             byte/block                              0\n",
            "    Static Shared Memory Per Block                                              byte/block                              0\n",
            "    Threads                                                                         thread                          1,024\n",
            "    Waves Per SM                                                                                                     0.05\n",
            "    ---------------------------------------------------------------------- --------------- ------------------------------\n",
            "    WRN   The grid for this launch is configured to execute only 32 blocks, which is less than the GPU's 40             \n",
            "          multiprocessors. This can underutilize some multiprocessors. If you do not intend to execute this kernel      \n",
            "          concurrently with other workloads, consider reducing the block size to have at least one block per            \n",
            "          multiprocessor or increase the size of the grid to fully utilize the available hardware resources.            \n",
            "\n",
            "    Section: Occupancy\n",
            "    ---------------------------------------------------------------------- --------------- ------------------------------\n",
            "    Block Limit SM                                                                   block                             16\n",
            "    Block Limit Registers                                                            block                            128\n",
            "    Block Limit Shared Mem                                                           block                             16\n",
            "    Block Limit Warps                                                                block                             32\n",
            "    Theoretical Active Warps per SM                                                   warp                             16\n",
            "    Theoretical Occupancy                                                                %                             50\n",
            "    Achieved Occupancy                                                                   %                           3.12\n",
            "    Achieved Active Warps Per SM                                                      warp                              1\n",
            "    ---------------------------------------------------------------------- --------------- ------------------------------\n",
            "\n",
            "  convert_kernel(unsigned int*, unsigned int), 2022-Dec-16 15:19:05, Context 1, Stream 7\n",
            "    Section: GPU Speed Of Light\n",
            "    ---------------------------------------------------------------------- --------------- ------------------------------\n",
            "    DRAM Frequency                                                           cycle/nsecond                           4.76\n",
            "    SM Frequency                                                             cycle/usecond                         558.35\n",
            "    Elapsed Cycles                                                                   cycle                          2,073\n",
            "    Memory [%]                                                                           %                           0.86\n",
            "    SOL DRAM                                                                             %                           0.48\n",
            "    Duration                                                                       usecond                           3.71\n",
            "    SOL L1/TEX Cache                                                                     %                           0.70\n",
            "    SOL L2 Cache                                                                         %                           0.86\n",
            "    SM Active Cycles                                                                 cycle                         684.17\n",
            "    SM [%]                                                                               %                           0.15\n",
            "    ---------------------------------------------------------------------- --------------- ------------------------------\n",
            "    WRN   This kernel grid is too small to fill the available resources on this device, resulting in only 0.1 full      \n",
            "          waves across all SMs. Look at Launch Statistics for more details.                                             \n",
            "\n",
            "    Section: Launch Statistics\n",
            "    ---------------------------------------------------------------------- --------------- ------------------------------\n",
            "    Block Size                                                                                                         32\n",
            "    Function Cache Configuration                                                                  cudaFuncCachePreferNone\n",
            "    Grid Size                                                                                                          32\n",
            "    Registers Per Thread                                                   register/thread                             16\n",
            "    Shared Memory Configuration Size                                                 Kbyte                          32.77\n",
            "    Driver Shared Memory Per Block                                              byte/block                              0\n",
            "    Dynamic Shared Memory Per Block                                             byte/block                              0\n",
            "    Static Shared Memory Per Block                                              byte/block                              0\n",
            "    Threads                                                                         thread                          1,024\n",
            "    Waves Per SM                                                                                                     0.05\n",
            "    ---------------------------------------------------------------------- --------------- ------------------------------\n",
            "    WRN   The grid for this launch is configured to execute only 32 blocks, which is less than the GPU's 40             \n",
            "          multiprocessors. This can underutilize some multiprocessors. If you do not intend to execute this kernel      \n",
            "          concurrently with other workloads, consider reducing the block size to have at least one block per            \n",
            "          multiprocessor or increase the size of the grid to fully utilize the available hardware resources.            \n",
            "\n",
            "    Section: Occupancy\n",
            "    ---------------------------------------------------------------------- --------------- ------------------------------\n",
            "    Block Limit SM                                                                   block                             16\n",
            "    Block Limit Registers                                                            block                            128\n",
            "    Block Limit Shared Mem                                                           block                             16\n",
            "    Block Limit Warps                                                                block                             32\n",
            "    Theoretical Active Warps per SM                                                   warp                             16\n",
            "    Theoretical Occupancy                                                                %                             50\n",
            "    Achieved Occupancy                                                                   %                           3.12\n",
            "    Achieved Active Warps Per SM                                                      warp                              1\n",
            "    ---------------------------------------------------------------------- --------------- ------------------------------\n",
            "\n"
          ]
        }
      ]
    },
    {
      "cell_type": "markdown",
      "source": [
        "##### 8.For a input array of 1024 elements, profile with Nvidia Nsight and report Shared Memory Configuration Size and Achieved Occupancy. Did Nvsight report any potential performance issues?\n",
        "<br/> \n",
        "Shared Memory Configuration Size: 32.77 Kbytes\n",
        "\n",
        "Achieved Occupancy: 3.12%\n",
        "\n",
        "Yes, it says the grid is too small and can underutilize some multiprocessors."
      ],
      "metadata": {
        "id": "Ij_98NuRyeam"
      }
    },
    {
      "cell_type": "markdown",
      "source": [
        "# EX4\n",
        "\n",
        "### Questions\n",
        "##### 1.Describe the environment you used, what changes you made to the Makefile, and how you ran the simulation.\n",
        "<br/> \n",
        "Environment: Google Colab\n",
        "\n",
        "\n",
        "Changes in Makefile :change ARCH=sm_30 to ARCH=sm_75\n",
        "\n",
        "##### 2.Describe your design of the GPU implementation of mover_PC() briefly.\n",
        " First allocate device memory, copy from host memory to device memory and initialize thread block and kernel grid dimensions, then Invoke CUDA kernel,copy results from GPU to CPU and free device memory.\n",
        "\n",
        "##### 3.Compare the output of both CPU and GPU implementation to guarantee that your GPU implementations produce correct answers."
      ],
      "metadata": {
        "id": "d6kUkotQ4gY8"
      }
    },
    {
      "cell_type": "code",
      "source": [
        "%cd '/content/drive/MyDrive/sputniPIC-DD2360-changed'\n",
        "!ls"
      ],
      "metadata": {
        "colab": {
          "base_uri": "https://localhost:8080/"
        },
        "id": "JdYwL2KA5Orp",
        "outputId": "d7652a75-4f7e-405b-8e1f-20e8f2df87c3"
      },
      "execution_count": null,
      "outputs": [
        {
          "output_type": "stream",
          "name": "stdout",
          "text": [
            "/content/drive/MyDrive/sputniPIC-DD2360\n",
            "include  inputfiles  Makefile  src\n"
          ]
        }
      ]
    },
    {
      "cell_type": "code",
      "source": [
        "!make all"
      ],
      "metadata": {
        "colab": {
          "base_uri": "https://localhost:8080/"
        },
        "id": "dHdhiXKD5fmD",
        "outputId": "2b5d60ef-721d-4f8d-cc84-e2557a32fd25"
      },
      "execution_count": null,
      "outputs": [
        {
          "output_type": "stream",
          "name": "stdout",
          "text": [
            "mkdir -p ./bin\n",
            "[ -d src ] || mkdir src\n",
            "nvcc -std=c++11 -I./include -O3 -g -G -Xcompiler -Wall src/Grid.cpp -c -o src/Grid.o\n",
            "[ -d src ] || mkdir src\n",
            "nvcc -std=c++11 -I./include -O3 -g -G -Xcompiler -Wall src/BC.cpp -c -o src/BC.o\n",
            "[ -d src ] || mkdir src\n",
            "nvcc -std=c++11 -I./include -O3 -g -G -Xcompiler -Wall src/EMfield.cpp -c -o src/EMfield.o\n",
            "[ -d src ] || mkdir src\n",
            "nvcc -std=c++11 -I./include -O3 -g -G -Xcompiler -Wall src/Timing.cpp -c -o src/Timing.o\n",
            "[ -d src ] || mkdir src\n",
            "nvcc -std=c++11 -I./include -O3 -g -G -Xcompiler -Wall src/InterpDensSpecies.cpp -c -o src/InterpDensSpecies.o\n",
            "[ -d src ] || mkdir src\n",
            "nvcc -std=c++11 -I./include -O3 -g -G -Xcompiler -Wall src/sputniPIC.cpp -c -o src/sputniPIC.o\n",
            "In file included from \u001b[01m\u001b[Ksrc/sputniPIC.cpp:25:0\u001b[m\u001b[K:\n",
            "\u001b[01m\u001b[K./include/IC.h:\u001b[m\u001b[K In function ‘\u001b[01m\u001b[Kvoid initGEM(parameters*, grid*, EMfield*, EMfield_aux*, particles*, interpDensSpecies*)\u001b[m\u001b[K’:\n",
            "\u001b[01m\u001b[K./include/IC.h:82:25:\u001b[m\u001b[K \u001b[01;35m\u001b[Kwarning: \u001b[m\u001b[Kunused variable ‘\u001b[01m\u001b[Ksign\u001b[m\u001b[K’ [\u001b[01;35m\u001b[K-Wunused-variable\u001b[m\u001b[K]\n",
            "     double prob, theta, \u001b[01;35m\u001b[Ksign\u001b[m\u001b[K;\n",
            "                         \u001b[01;35m\u001b[K^~~~\u001b[m\u001b[K\n",
            "[ -d src ] || mkdir src\n",
            "nvcc -std=c++11 -I./include -O3 -g -G -Xcompiler -Wall src/ConfigFile.cpp -c -o src/ConfigFile.o\n",
            "[ -d src ] || mkdir src\n",
            "nvcc -std=c++11 -I./include -O3 -g -G -Xcompiler -Wall src/EMfield_aux.cpp -c -o src/EMfield_aux.o\n",
            "[ -d src ] || mkdir src\n",
            "nvcc -std=c++11 -I./include -O3 -g -G -Xcompiler -Wall src/TransArraySpace3D.cpp -c -o src/TransArraySpace3D.o\n",
            "[ -d src ] || mkdir src\n",
            "nvcc -std=c++11 -I./include -O3 -g -G -Xcompiler -Wall src/Particles_aux.cpp -c -o src/Particles_aux.o\n",
            "\u001b[01m\u001b[Ksrc/Particles_aux.cpp:\u001b[m\u001b[K In function ‘\u001b[01m\u001b[Kvoid particle_aux_allocate(particles*, particles_aux*, int)\u001b[m\u001b[K’:\n",
            "\u001b[01m\u001b[Ksrc/Particles_aux.cpp:14:10:\u001b[m\u001b[K \u001b[01;35m\u001b[Kwarning: \u001b[m\u001b[Kunused variable ‘\u001b[01m\u001b[Knpmax\u001b[m\u001b[K’ [\u001b[01;35m\u001b[K-Wunused-variable\u001b[m\u001b[K]\n",
            "     long \u001b[01;35m\u001b[Knpmax\u001b[m\u001b[K = part->npmax;\n",
            "          \u001b[01;35m\u001b[K^~~~~\u001b[m\u001b[K\n",
            "[ -d src ] || mkdir src\n",
            "nvcc -std=c++11 -I./include -O3 -g -G -Xcompiler -Wall src/RW_IO.cpp -c -o src/RW_IO.o\n",
            "[ -d src ] || mkdir src\n",
            "nvcc -std=c++11 -I./include -O3 -g -G -Xcompiler -Wall src/Basic.cpp -c -o src/Basic.o\n",
            "[ -d src ] || mkdir src\n",
            "nvcc -std=c++11 -I./include -O3 -g -G -Xcompiler -Wall src/InterpDensNet.cpp -c -o src/InterpDensNet.o\n",
            "nvcc -I./include -arch=sm_75 -std=c++11 -O3 -g -G -Xcompiler -Wall --compiler-bindir=g++ src/Particles.cu -c -o src/Particles.o\n",
            "\u001b[01m\u001b[Ksrc/Particles.cu:6:12:\u001b[m\u001b[K \u001b[01;35m\u001b[Kwarning: \u001b[m\u001b[KISO C++11 requires whitespace after the macro name\n",
            " #define ans\u001b[01;35m\u001b[K)\u001b[m\u001b[K { gpuAssert((ans), __FILE__, __LINE__); }\n",
            "            \u001b[01;35m\u001b[K^\u001b[m\u001b[K\n",
            "\u001b[01m\u001b[Ksrc/Particles.cu:6:12:\u001b[m\u001b[K \u001b[01;35m\u001b[Kwarning: \u001b[m\u001b[KISO C++11 requires whitespace after the macro name\n",
            " #define ans\u001b[01;35m\u001b[K)\u001b[m\u001b[K { gpuAssert((ans), __FILE__, __LINE__); }\n",
            "            \u001b[01;35m\u001b[K^\u001b[m\u001b[K\n",
            "\u001b[01m\u001b[Ksrc/Particles.cu:\u001b[m\u001b[K In function ‘\u001b[01m\u001b[Kint mover_PC(particles*, EMfield*, grid*, parameters*)\u001b[m\u001b[K’:\n",
            "\u001b[01m\u001b[Ksrc/Particles.cu:172:38:\u001b[m\u001b[K \u001b[01;35m\u001b[Kwarning: \u001b[m\u001b[K‘\u001b[01m\u001b[Kwptilde\u001b[m\u001b[K’ may be used uninitialized in this function [\u001b[01;35m\u001b[K-Wmaybe-uninitialized\u001b[m\u001b[K]\n",
            "             part->z[i] = zpt\u001b[01;35m\u001b[Kilde + wptilde*dt_sub_cycl\u001b[m\u001b[King;\n",
            "                             \u001b[01;35m\u001b[K~~~~~~~~~^~~~~~~~~~~~~~~~~\u001b[m\u001b[K\n",
            "\u001b[01m\u001b[Ksrc/Particles.cu:168:26:\u001b[m\u001b[K \u001b[01;35m\u001b[Kwarning: \u001b[m\u001b[K‘\u001b[01m\u001b[Kvptilde\u001b[m\u001b[K’ may be used uninitialized in this function [\u001b[01;35m\u001b[K-Wmaybe-uninitialized\u001b[m\u001b[K]\n",
            "             part->\u001b[01;35m\u001b[Kv[i]= 2.0*vptilde\u001b[m\u001b[K - part->v[i];\n",
            "                   \u001b[01;35m\u001b[K~~~~~~~^~~~~~~~~~\u001b[m\u001b[K\n",
            "\u001b[01m\u001b[Ksrc/Particles.cu:167:26:\u001b[m\u001b[K \u001b[01;35m\u001b[Kwarning: \u001b[m\u001b[K‘\u001b[01m\u001b[Kuptilde\u001b[m\u001b[K’ may be used uninitialized in this function [\u001b[01;35m\u001b[K-Wmaybe-uninitialized\u001b[m\u001b[K]\n",
            "             part->\u001b[01;35m\u001b[Ku[i]= 2.0*uptilde\u001b[m\u001b[K - part->u[i];\n",
            "                   \u001b[01;35m\u001b[K~~~~~~~^~~~~~~~~~\u001b[m\u001b[K\n",
            "nvcc -I./include -arch=sm_75 -std=c++11 -O3 -g -G -Xcompiler -Wall --compiler-bindir=g++ src/Grid.o src/BC.o src/EMfield.o src/Timing.o src/InterpDensSpecies.o src/sputniPIC.o src/ConfigFile.o src/EMfield_aux.o src/TransArraySpace3D.o src/Particles_aux.o src/RW_IO.o src/Basic.o src/InterpDensNet.o src/Particles.o -o bin/sputniPIC.out\n"
          ]
        }
      ]
    },
    {
      "cell_type": "code",
      "source": [
        "!./bin/sputniPIC.out inputfiles/GEM_2D.inp"
      ],
      "metadata": {
        "colab": {
          "base_uri": "https://localhost:8080/"
        },
        "id": "TtmK81SQ5mCu",
        "outputId": "ebfaa794-62a4-4547-bf12-3df6b4d2783d"
      },
      "execution_count": null,
      "outputs": [
        {
          "output_type": "stream",
          "name": "stdout",
          "text": [
            "\n",
            "-------------------------\n",
            "sputniPIC Sim. Parameters\n",
            "-------------------------\n",
            "Number of species    = 4\n",
            "Number of particles of species 0 = 4096000\t (MAX = 4096000)  QOM = -64\n",
            "Number of particles of species 1 = 4096000\t (MAX = 4096000)  QOM = 1\n",
            "Number of particles of species 2 = 4096000\t (MAX = 4096000)  QOM = -64\n",
            "Number of particles of species 3 = 4096000\t (MAX = 4096000)  QOM = 1\n",
            "x-Length                 = 40\n",
            "y-Length                 = 20\n",
            "z-Length                 = 1\n",
            "Number of cells (x)      = 256\n",
            "Number of cells (y)      = 128\n",
            "Number of cells (z)      = 1\n",
            "Time step                = 0.25\n",
            "Number of cycles         = 10\n",
            "Results saved in: data\n",
            "*************************************************\n",
            "**  Initialize GEM Challenge with Pertubation  **\n",
            "*************************************************\n",
            "** B0x = 0.0195\n",
            "** B0y = 0\n",
            "** B0z = 0\n",
            "** Delta (current sheet thickness) = 0.5\n",
            "** rho species 0 = 1 CURRENT SHEET \n",
            "** rho species 1 = 1 CURRENT SHEET \n",
            "** rho species 2 = 0.02 BACKGROUND \n",
            "** rho species 3 = 0.02 BACKGROUND \n",
            "*************************************************\n",
            "\n",
            "***********************\n",
            "   cycle = 1\n",
            "***********************\n",
            "***  MOVER with SUBCYCLYING 1 - species 0 ***\n",
            "***  MOVER with SUBCYCLYING 1 - species 1 ***\n",
            "***  MOVER with SUBCYCLYING 1 - species 2 ***\n",
            "***  MOVER with SUBCYCLYING 1 - species 3 ***\n",
            "\n",
            "***********************\n",
            "   cycle = 2\n",
            "***********************\n",
            "***  MOVER with SUBCYCLYING 1 - species 0 ***\n",
            "***  MOVER with SUBCYCLYING 1 - species 1 ***\n",
            "***  MOVER with SUBCYCLYING 1 - species 2 ***\n",
            "***  MOVER with SUBCYCLYING 1 - species 3 ***\n",
            "\n",
            "***********************\n",
            "   cycle = 3\n",
            "***********************\n",
            "***  MOVER with SUBCYCLYING 1 - species 0 ***\n",
            "***  MOVER with SUBCYCLYING 1 - species 1 ***\n",
            "***  MOVER with SUBCYCLYING 1 - species 2 ***\n",
            "***  MOVER with SUBCYCLYING 1 - species 3 ***\n",
            "\n",
            "***********************\n",
            "   cycle = 4\n",
            "***********************\n",
            "***  MOVER with SUBCYCLYING 1 - species 0 ***\n",
            "***  MOVER with SUBCYCLYING 1 - species 1 ***\n",
            "***  MOVER with SUBCYCLYING 1 - species 2 ***\n",
            "***  MOVER with SUBCYCLYING 1 - species 3 ***\n",
            "\n",
            "***********************\n",
            "   cycle = 5\n",
            "***********************\n",
            "***  MOVER with SUBCYCLYING 1 - species 0 ***\n",
            "***  MOVER with SUBCYCLYING 1 - species 1 ***\n",
            "***  MOVER with SUBCYCLYING 1 - species 2 ***\n",
            "***  MOVER with SUBCYCLYING 1 - species 3 ***\n",
            "\n",
            "***********************\n",
            "   cycle = 6\n",
            "***********************\n",
            "***  MOVER with SUBCYCLYING 1 - species 0 ***\n",
            "***  MOVER with SUBCYCLYING 1 - species 1 ***\n",
            "***  MOVER with SUBCYCLYING 1 - species 2 ***\n",
            "***  MOVER with SUBCYCLYING 1 - species 3 ***\n",
            "\n",
            "***********************\n",
            "   cycle = 7\n",
            "***********************\n",
            "***  MOVER with SUBCYCLYING 1 - species 0 ***\n",
            "***  MOVER with SUBCYCLYING 1 - species 1 ***\n",
            "***  MOVER with SUBCYCLYING 1 - species 2 ***\n",
            "***  MOVER with SUBCYCLYING 1 - species 3 ***\n",
            "\n",
            "***********************\n",
            "   cycle = 8\n",
            "***********************\n",
            "***  MOVER with SUBCYCLYING 1 - species 0 ***\n",
            "***  MOVER with SUBCYCLYING 1 - species 1 ***\n",
            "***  MOVER with SUBCYCLYING 1 - species 2 ***\n",
            "***  MOVER with SUBCYCLYING 1 - species 3 ***\n",
            "\n",
            "***********************\n",
            "   cycle = 9\n",
            "***********************\n",
            "***  MOVER with SUBCYCLYING 1 - species 0 ***\n",
            "***  MOVER with SUBCYCLYING 1 - species 1 ***\n",
            "***  MOVER with SUBCYCLYING 1 - species 2 ***\n",
            "***  MOVER with SUBCYCLYING 1 - species 3 ***\n",
            "\n",
            "***********************\n",
            "   cycle = 10\n",
            "***********************\n",
            "***  MOVER with SUBCYCLYING 1 - species 0 ***\n",
            "***  MOVER with SUBCYCLYING 1 - species 1 ***\n",
            "***  MOVER with SUBCYCLYING 1 - species 2 ***\n",
            "***  MOVER with SUBCYCLYING 1 - species 3 ***\n",
            "Opening file: ./data/E_10.vtk\n",
            "Opening file: ./data/B_10.vtk\n",
            "Opening file: ./data/rhoe_10.vtk\n",
            "Opening file: ./data/rhoi_10.vtk\n",
            "Opening file: ./data/rho_net_10.vtk\n",
            "\n",
            "**************************************\n",
            "   Tot. Simulation Time (s) = 34.5138\n",
            "   Mover Time / Cycle   (s) = 0.858337\n",
            "   Interp. Time / Cycle (s) = 2.20835\n",
            "**************************************\n"
          ]
        }
      ]
    },
    {
      "cell_type": "markdown",
      "source": [
        "##### 4.Compare the execution time of your GPU implementation with its CPU version."
      ],
      "metadata": {
        "id": "wYg5RELW933m"
      }
    },
    {
      "cell_type": "code",
      "source": [
        "!make"
      ],
      "metadata": {
        "colab": {
          "base_uri": "https://localhost:8080/"
        },
        "id": "IOsUD04y93pd",
        "outputId": "6ba5f70a-7e65-449c-bc83-1df1ec3ced9d"
      },
      "execution_count": null,
      "outputs": [
        {
          "output_type": "stream",
          "name": "stdout",
          "text": [
            "make: Nothing to be done for 'all'.\n",
            "terminate called after throwing an instance of 'ConfigFile::file_not_found'\n"
          ]
        }
      ]
    },
    {
      "cell_type": "code",
      "source": [
        "%cd '/content/drive/MyDrive/sputniPIC-DD2360-master'\n",
        "!ls"
      ],
      "metadata": {
        "colab": {
          "base_uri": "https://localhost:8080/"
        },
        "id": "x1v0kKDfE-4g",
        "outputId": "91502605-2646-4f2e-c15a-231072f852d7"
      },
      "execution_count": null,
      "outputs": [
        {
          "output_type": "stream",
          "name": "stdout",
          "text": [
            "/content/drive/MyDrive/sputniPIC-DD2360-master\n",
            "bin  include  inputfiles  Makefile  src\n"
          ]
        }
      ]
    },
    {
      "cell_type": "code",
      "source": [
        "! make clean\n",
        "! make all "
      ],
      "metadata": {
        "colab": {
          "base_uri": "https://localhost:8080/"
        },
        "id": "Dwwehv6rFGkL",
        "outputId": "d52ce82e-fae5-4678-b374-883718ac38ca"
      },
      "execution_count": null,
      "outputs": [
        {
          "output_type": "stream",
          "name": "stdout",
          "text": [
            "rm -rf  src/TransArraySpace3D.o src/Timing.o src/EMfield.o src/InterpDensSpecies.o src/Grid.o src/EMfield_aux.o src/sputniPIC.o src/RW_IO.o src/InterpDensNet.o src/Particles_aux.o src/ConfigFile.o src/BC.o src/Basic.o src/Particles.o\n",
            "rm -rf sputniPIC.out\n",
            "[ -d src ] || mkdir src\n",
            "nvcc -std=c++11 -I./include -O3 -g -Xcompiler -Wall src/TransArraySpace3D.cpp -c -o src/TransArraySpace3D.o\n",
            "[ -d src ] || mkdir src\n",
            "nvcc -std=c++11 -I./include -O3 -g -Xcompiler -Wall src/Timing.cpp -c -o src/Timing.o\n",
            "[ -d src ] || mkdir src\n",
            "nvcc -std=c++11 -I./include -O3 -g -Xcompiler -Wall src/EMfield.cpp -c -o src/EMfield.o\n",
            "[ -d src ] || mkdir src\n",
            "nvcc -std=c++11 -I./include -O3 -g -Xcompiler -Wall src/InterpDensSpecies.cpp -c -o src/InterpDensSpecies.o\n",
            "[ -d src ] || mkdir src\n",
            "nvcc -std=c++11 -I./include -O3 -g -Xcompiler -Wall src/Grid.cpp -c -o src/Grid.o\n",
            "[ -d src ] || mkdir src\n",
            "nvcc -std=c++11 -I./include -O3 -g -Xcompiler -Wall src/EMfield_aux.cpp -c -o src/EMfield_aux.o\n",
            "[ -d src ] || mkdir src\n",
            "nvcc -std=c++11 -I./include -O3 -g -Xcompiler -Wall src/sputniPIC.cpp -c -o src/sputniPIC.o\n",
            "In file included from \u001b[01m\u001b[Ksrc/sputniPIC.cpp:25:0\u001b[m\u001b[K:\n",
            "\u001b[01m\u001b[K./include/IC.h:\u001b[m\u001b[K In function ‘\u001b[01m\u001b[Kvoid initGEM(parameters*, grid*, EMfield*, EMfield_aux*, particles*, interpDensSpecies*)\u001b[m\u001b[K’:\n",
            "\u001b[01m\u001b[K./include/IC.h:82:25:\u001b[m\u001b[K \u001b[01;35m\u001b[Kwarning: \u001b[m\u001b[Kunused variable ‘\u001b[01m\u001b[Ksign\u001b[m\u001b[K’ [\u001b[01;35m\u001b[K-Wunused-variable\u001b[m\u001b[K]\n",
            "     double prob, theta, \u001b[01;35m\u001b[Ksign\u001b[m\u001b[K;\n",
            "                         \u001b[01;35m\u001b[K^~~~\u001b[m\u001b[K\n",
            "[ -d src ] || mkdir src\n",
            "nvcc -std=c++11 -I./include -O3 -g -Xcompiler -Wall src/RW_IO.cpp -c -o src/RW_IO.o\n",
            "[ -d src ] || mkdir src\n",
            "nvcc -std=c++11 -I./include -O3 -g -Xcompiler -Wall src/InterpDensNet.cpp -c -o src/InterpDensNet.o\n",
            "[ -d src ] || mkdir src\n",
            "nvcc -std=c++11 -I./include -O3 -g -Xcompiler -Wall src/Particles_aux.cpp -c -o src/Particles_aux.o\n",
            "\u001b[01m\u001b[Ksrc/Particles_aux.cpp:\u001b[m\u001b[K In function ‘\u001b[01m\u001b[Kvoid particle_aux_allocate(particles*, particles_aux*, int)\u001b[m\u001b[K’:\n",
            "\u001b[01m\u001b[Ksrc/Particles_aux.cpp:14:10:\u001b[m\u001b[K \u001b[01;35m\u001b[Kwarning: \u001b[m\u001b[Kunused variable ‘\u001b[01m\u001b[Knpmax\u001b[m\u001b[K’ [\u001b[01;35m\u001b[K-Wunused-variable\u001b[m\u001b[K]\n",
            "     long \u001b[01;35m\u001b[Knpmax\u001b[m\u001b[K = part->npmax;\n",
            "          \u001b[01;35m\u001b[K^~~~~\u001b[m\u001b[K\n",
            "[ -d src ] || mkdir src\n",
            "nvcc -std=c++11 -I./include -O3 -g -Xcompiler -Wall src/ConfigFile.cpp -c -o src/ConfigFile.o\n",
            "[ -d src ] || mkdir src\n",
            "nvcc -std=c++11 -I./include -O3 -g -Xcompiler -Wall src/BC.cpp -c -o src/BC.o\n",
            "[ -d src ] || mkdir src\n",
            "nvcc -std=c++11 -I./include -O3 -g -Xcompiler -Wall src/Basic.cpp -c -o src/Basic.o\n",
            "nvcc -I./include -arch=sm_75 -std=c++11 -O3 -g -Xcompiler -Wall --compiler-bindir=g++ src/Particles.cu -c -o src/Particles.o\n",
            "\u001b[01m\u001b[Ksrc/Particles.cu:\u001b[m\u001b[K In function ‘\u001b[01m\u001b[Kint mover_PC(particles*, EMfield*, grid*, parameters*)\u001b[m\u001b[K’:\n",
            "\u001b[01m\u001b[Ksrc/Particles.cu:162:38:\u001b[m\u001b[K \u001b[01;35m\u001b[Kwarning: \u001b[m\u001b[K‘\u001b[01m\u001b[Kwptilde\u001b[m\u001b[K’ may be used uninitialized in this function [\u001b[01;35m\u001b[K-Wmaybe-uninitialized\u001b[m\u001b[K]\n",
            "             part->z[i] = zpt\u001b[01;35m\u001b[Kilde + wptilde*dt_sub_cycl\u001b[m\u001b[King;\n",
            "                             \u001b[01;35m\u001b[K~~~~~~~~~^~~~~~~~~~~~~~~~~\u001b[m\u001b[K\n",
            "\u001b[01m\u001b[Ksrc/Particles.cu:158:26:\u001b[m\u001b[K \u001b[01;35m\u001b[Kwarning: \u001b[m\u001b[K‘\u001b[01m\u001b[Kvptilde\u001b[m\u001b[K’ may be used uninitialized in this function [\u001b[01;35m\u001b[K-Wmaybe-uninitialized\u001b[m\u001b[K]\n",
            "             part->\u001b[01;35m\u001b[Kv[i]= 2.0*vptilde\u001b[m\u001b[K - part->v[i];\n",
            "                   \u001b[01;35m\u001b[K~~~~~~~^~~~~~~~~~\u001b[m\u001b[K\n",
            "\u001b[01m\u001b[Ksrc/Particles.cu:157:26:\u001b[m\u001b[K \u001b[01;35m\u001b[Kwarning: \u001b[m\u001b[K‘\u001b[01m\u001b[Kuptilde\u001b[m\u001b[K’ may be used uninitialized in this function [\u001b[01;35m\u001b[K-Wmaybe-uninitialized\u001b[m\u001b[K]\n",
            "             part->\u001b[01;35m\u001b[Ku[i]= 2.0*uptilde\u001b[m\u001b[K - part->u[i];\n",
            "                   \u001b[01;35m\u001b[K~~~~~~~^~~~~~~~~~\u001b[m\u001b[K\n",
            "nvcc -I./include -arch=sm_75 -std=c++11 -O3 -g -Xcompiler -Wall --compiler-bindir=g++ src/TransArraySpace3D.o src/Timing.o src/EMfield.o src/InterpDensSpecies.o src/Grid.o src/EMfield_aux.o src/sputniPIC.o src/RW_IO.o src/InterpDensNet.o src/Particles_aux.o src/ConfigFile.o src/BC.o src/Basic.o src/Particles.o -o bin/sputniPIC.out\n"
          ]
        }
      ]
    },
    {
      "cell_type": "code",
      "source": [
        "!./bin/sputniPIC.out inputfiles/GEM_2D.inp"
      ],
      "metadata": {
        "colab": {
          "base_uri": "https://localhost:8080/"
        },
        "id": "aTnlPBK-FQ0m",
        "outputId": "abdf6753-8f85-463c-c60e-663daa724c70"
      },
      "execution_count": null,
      "outputs": [
        {
          "output_type": "stream",
          "name": "stdout",
          "text": [
            "\n",
            "-------------------------\n",
            "sputniPIC Sim. Parameters\n",
            "-------------------------\n",
            "Number of species    = 4\n",
            "Number of particles of species 0 = 4096000\t (MAX = 4096000)  QOM = -64\n",
            "Number of particles of species 1 = 4096000\t (MAX = 4096000)  QOM = 1\n",
            "Number of particles of species 2 = 4096000\t (MAX = 4096000)  QOM = -64\n",
            "Number of particles of species 3 = 4096000\t (MAX = 4096000)  QOM = 1\n",
            "x-Length                 = 40\n",
            "y-Length                 = 20\n",
            "z-Length                 = 1\n",
            "Number of cells (x)      = 256\n",
            "Number of cells (y)      = 128\n",
            "Number of cells (z)      = 1\n",
            "Time step                = 0.25\n",
            "Number of cycles         = 10\n",
            "Results saved in: data\n",
            "*************************************************\n",
            "**  Initialize GEM Challenge with Pertubation  **\n",
            "*************************************************\n",
            "** B0x = 0.0195\n",
            "** B0y = 0\n",
            "** B0z = 0\n",
            "** Delta (current sheet thickness) = 0.5\n",
            "** rho species 0 = 1 CURRENT SHEET \n",
            "** rho species 1 = 1 CURRENT SHEET \n",
            "** rho species 2 = 0.02 BACKGROUND \n",
            "** rho species 3 = 0.02 BACKGROUND \n",
            "*************************************************\n",
            "\n",
            "***********************\n",
            "   cycle = 1\n",
            "***********************\n",
            "***  MOVER with SUBCYCLYING 1 - species 0 ***\n",
            "***  MOVER with SUBCYCLYING 1 - species 1 ***\n",
            "***  MOVER with SUBCYCLYING 1 - species 2 ***\n",
            "***  MOVER with SUBCYCLYING 1 - species 3 ***\n",
            "\n",
            "***********************\n",
            "   cycle = 2\n",
            "***********************\n",
            "***  MOVER with SUBCYCLYING 1 - species 0 ***\n",
            "***  MOVER with SUBCYCLYING 1 - species 1 ***\n",
            "***  MOVER with SUBCYCLYING 1 - species 2 ***\n",
            "***  MOVER with SUBCYCLYING 1 - species 3 ***\n",
            "\n",
            "***********************\n",
            "   cycle = 3\n",
            "***********************\n",
            "***  MOVER with SUBCYCLYING 1 - species 0 ***\n",
            "***  MOVER with SUBCYCLYING 1 - species 1 ***\n",
            "***  MOVER with SUBCYCLYING 1 - species 2 ***\n",
            "***  MOVER with SUBCYCLYING 1 - species 3 ***\n",
            "\n",
            "***********************\n",
            "   cycle = 4\n",
            "***********************\n",
            "***  MOVER with SUBCYCLYING 1 - species 0 ***\n",
            "***  MOVER with SUBCYCLYING 1 - species 1 ***\n",
            "***  MOVER with SUBCYCLYING 1 - species 2 ***\n",
            "***  MOVER with SUBCYCLYING 1 - species 3 ***\n",
            "\n",
            "***********************\n",
            "   cycle = 5\n",
            "***********************\n",
            "***  MOVER with SUBCYCLYING 1 - species 0 ***\n",
            "***  MOVER with SUBCYCLYING 1 - species 1 ***\n",
            "***  MOVER with SUBCYCLYING 1 - species 2 ***\n",
            "***  MOVER with SUBCYCLYING 1 - species 3 ***\n",
            "\n",
            "***********************\n",
            "   cycle = 6\n",
            "***********************\n",
            "***  MOVER with SUBCYCLYING 1 - species 0 ***\n",
            "***  MOVER with SUBCYCLYING 1 - species 1 ***\n",
            "***  MOVER with SUBCYCLYING 1 - species 2 ***\n",
            "***  MOVER with SUBCYCLYING 1 - species 3 ***\n",
            "\n",
            "***********************\n",
            "   cycle = 7\n",
            "***********************\n",
            "***  MOVER with SUBCYCLYING 1 - species 0 ***\n",
            "***  MOVER with SUBCYCLYING 1 - species 1 ***\n",
            "***  MOVER with SUBCYCLYING 1 - species 2 ***\n",
            "***  MOVER with SUBCYCLYING 1 - species 3 ***\n",
            "\n",
            "***********************\n",
            "   cycle = 8\n",
            "***********************\n",
            "***  MOVER with SUBCYCLYING 1 - species 0 ***\n",
            "***  MOVER with SUBCYCLYING 1 - species 1 ***\n",
            "***  MOVER with SUBCYCLYING 1 - species 2 ***\n",
            "***  MOVER with SUBCYCLYING 1 - species 3 ***\n",
            "\n",
            "***********************\n",
            "   cycle = 9\n",
            "***********************\n",
            "***  MOVER with SUBCYCLYING 1 - species 0 ***\n",
            "***  MOVER with SUBCYCLYING 1 - species 1 ***\n",
            "***  MOVER with SUBCYCLYING 1 - species 2 ***\n",
            "***  MOVER with SUBCYCLYING 1 - species 3 ***\n",
            "\n",
            "***********************\n",
            "   cycle = 10\n",
            "***********************\n",
            "***  MOVER with SUBCYCLYING 1 - species 0 ***\n",
            "***  MOVER with SUBCYCLYING 1 - species 1 ***\n",
            "***  MOVER with SUBCYCLYING 1 - species 2 ***\n",
            "***  MOVER with SUBCYCLYING 1 - species 3 ***\n",
            "Opening file: ./data/E_10.vtk\n",
            "Opening file: ./data/B_10.vtk\n",
            "Opening file: ./data/rhoe_10.vtk\n",
            "Opening file: ./data/rhoi_10.vtk\n",
            "Opening file: ./data/rho_net_10.vtk\n",
            "\n",
            "**************************************\n",
            "   Tot. Simulation Time (s) = 54.9994\n",
            "   Mover Time / Cycle   (s) = 2.94881\n",
            "   Interp. Time / Cycle (s) = 2.17288\n",
            "**************************************\n"
          ]
        }
      ]
    }
  ]
}